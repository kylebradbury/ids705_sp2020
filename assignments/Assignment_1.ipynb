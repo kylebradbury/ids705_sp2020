{
 "cells": [
  {
   "cell_type": "markdown",
   "metadata": {},
   "source": [
    "# Assignment 1 - Probability, Linear Algebra, Programming, and Git"
   ]
  },
  {
   "cell_type": "markdown",
   "metadata": {},
   "source": [
    "## Vishaal Venkatesh\n",
    "Netid: vv58"
   ]
  },
  {
   "cell_type": "markdown",
   "metadata": {},
   "source": [
    "Instructions for all assignments can be found [here](https://github.com/kylebradbury/ids705/blob/master/assignments/_Assignment%20Instructions.ipynb), which is also linked to from the [course syllabus](https://kylebradbury.github.io/ids705/index.html)."
   ]
  },
  {
   "cell_type": "markdown",
   "metadata": {},
   "source": [
    "# Probability and Statistics Theory"
   ]
  },
  {
   "cell_type": "markdown",
   "metadata": {},
   "source": [
    "*Note: for all assignments, write out all equations and math using markdown and [LaTeX](https://tobi.oetiker.ch/lshort/lshort.pdf). For this assignment show ALL math work*"
   ]
  },
  {
   "cell_type": "markdown",
   "metadata": {},
   "source": [
    "## 1\n",
    "**[3 points]**  \n",
    "Let $f(x) = \\begin{cases}\n",
    "                0           & x < 0  \\\\\n",
    "                \\alpha x^2  & 0 \\leq x \\leq 2 \\\\\n",
    "                0           & 2 < x\n",
    "            \\end{cases}$\n",
    "            \n",
    "For what value of $\\alpha$ is $f(x)$ a valid probability density function?"
   ]
  },
  {
   "cell_type": "markdown",
   "metadata": {},
   "source": [
    "**ANSWER**"
   ]
  },
  {
   "cell_type": "markdown",
   "metadata": {},
   "source": [
    "A valid PDF sums up to one when integrated over the domain of real valued numbers:\n",
    "$$\\int_{-\\infty} ^ {\\infty} {f(x)}{dx} = 1$$\n",
    "$$\\int_{-\\infty} ^ {0} {f(x)}{dx} + \\int_{0} ^ {2} {f(x)}{dx} + \\int_{2} ^ {\\infty} {f(x)}{dx} = 1$$\n",
    "$$\\int_{-\\infty} ^ {0} {0}{dx} + \\int_{0} ^ {2} {\\alpha x^2}{dx} + \\int_{2} ^ {\\infty} {0}{dx} = 1$$\n",
    "$$\\left[\\frac{\\alpha x^3}{3}\\right]_0^2 = 1$$\n",
    "$$\\frac{8\\alpha}{3} = 1$$\n",
    "$$\\alpha = \\frac{3}{8}$$\n",
    "\n",
    "\n"
   ]
  },
  {
   "cell_type": "markdown",
   "metadata": {},
   "source": [
    "## 2\n",
    "**[3 points]** What is the cumulative distribution function (CDF) that corresponds to the following probability distribution function? Please state the value of the CDF for all possible values of $x$.\n",
    "\n",
    "$f(x) = \\begin{cases}\n",
    "    \\frac{1}{3} & 0 < x < 3 \\\\\n",
    "    0           & \\text{otherwise}\n",
    "    \\end{cases}$"
   ]
  },
  {
   "cell_type": "markdown",
   "metadata": {},
   "source": [
    "**ANSWER**"
   ]
  },
  {
   "cell_type": "markdown",
   "metadata": {},
   "source": [
    "The CDF for the range $ {-\\infty} < x < 0 $ is the following\n",
    "\n",
    "$$F(x) = \\int_{-\\infty} ^ {x} {f(y)}{dy} $$\n",
    "$$F(x) = \\int_{-\\infty} ^ {x} {0} {dy} $$\n",
    "$$F(x) = 0 $$\n",
    "\n",
    "The CDF for the range $ 0 < x < 3 $ is the following\n",
    "\n",
    "$$F(x) = \\int_{-\\infty} ^ {x} {f(y)}{dy} $$\n",
    "$$F(x) = \\int_{-\\infty} ^ {0} {0} {dy} + \\int_{0} ^ {x}\\frac{1}{3}{dy} $$\n",
    "$$F(x) = 0 + \\int_{0} ^ {x} \\frac{1}{3}{dy} $$\n",
    "$$F(x) = \\left[\\frac{x}{3}\\right]_0^x$$\n",
    "$$F(x) = \\frac{1}{3}x$$\n",
    "\n",
    "The CDF for the range $ 3 < x < {\\infty} $ is the following\n",
    "\n",
    "$$F(x) = \\int_{-\\infty} ^ {x} {f(y)}{dy} $$\n",
    "$$F(x) = \\int_{-\\infty} ^ {0} {0} {dy} + \\int_{0} ^ {3}\\frac{1}{3}{dy} +  \\int_{3} ^ {\\infty}0{dy}$$\n",
    "$$F(x) = 0 + \\int_{0} ^ {3}\\frac{1}{3}{dy} +  \\int_{3} ^ {\\infty}0{dy}$$\n",
    "$$F(x) = 1$$\n",
    "\n",
    "CDF:\n",
    "\n",
    "$$F(x) = \\begin{cases}\n",
    "    0 & {-\\infty} < x < 0\\\\\n",
    "    \\frac{x}{3} & 0 < x < 3 \\\\\n",
    "    1           & 3 < x < {\\infty}\n",
    "    \\end{cases}$$"
   ]
  },
  {
   "cell_type": "markdown",
   "metadata": {},
   "source": [
    "## 3\n",
    "**[6 points]** For the probability distribution function for the random variable $X$,\n",
    "\n",
    "$f(x) = \\begin{cases}\n",
    "    \\frac{1}{3} & 0 < x < 3 \\\\\n",
    "    0           & \\text{otherwise}\n",
    "    \\end{cases}$\n",
    "    \n",
    "what is the (a) expected value and (b) variance of $X$. *Show all work*."
   ]
  },
  {
   "cell_type": "markdown",
   "metadata": {},
   "source": [
    "**ANSWER**"
   ]
  },
  {
   "cell_type": "markdown",
   "metadata": {},
   "source": [
    "(a) Expected Value\n",
    "\n",
    "$$E[X] = \\int_{-\\infty} ^ {\\infty} x{f(x)}{dx}$$\n",
    "$$E[X] = \\int_{-\\infty} ^ {0} x{f(x)}{dx} + \\int_{0} ^ {3} x{f(x)}{dx} + \\int_{3} ^ {\\infty} x{f(x)}{dx}$$\n",
    "$$E[X] = \\int_{-\\infty} ^ {0} x{0}{dx} + \\int_{0} ^ {3} x{f(x)}{dx} + \\int_{3} ^ {\\infty} x{0}{dx}$$\n",
    "$$E[X] = 0 + \\int_{0} ^ {3} x{f(x)}{dx} + 0$$\n",
    "$$E[X] = \\int_{0} ^ {3} \\frac{x}{3}{dx}$$\n",
    "$$E[X] = \\left[\\frac{x^2}{6}\\right]_0^3$$\n",
    "$$E[X] = \\frac{3}{2}$$\n",
    "\n",
    "(b) Variance\n",
    "\n",
    "$$V[X] = E[X^2] - E[X]^2$$\n",
    "\n",
    "$$V[X] = \\int_{0} ^ {3} x^2{f(x)}{dx} - E[X]^2$$\n",
    "\n",
    "$$V[X] = \\int_{0} ^ {3} x^2{\\frac{1}{3}}{dx} - E[X]^2$$\n",
    "\n",
    "$$V[X] = \\left[\\frac{x^3}{9}\\right]_0^3 - E[X]^2$$\n",
    "\n",
    "$$V[X] = \\frac{27}{9} - {\\frac{9}{4}}$$\n",
    "$$V[X] = \\frac{3}{4}$$"
   ]
  },
  {
   "cell_type": "markdown",
   "metadata": {},
   "source": [
    "## 4\n",
    "**[6 points]** Consider the following table of data that provides the values of a discrete data vector $\\mathbf{x}$ of samples from the random variable $X$, where each entry in $\\mathbf{x}$ is given as $x_i$.\n",
    "\n",
    "*Table 1. Dataset N=5 observations*\n",
    "\n",
    "|        | $x_0$ | $x_1$ | $x_2$ | $x_3$ | $x_4$ |\n",
    "|------  |-------|-------|-------|-------|-------|\n",
    "|$\\textbf{x}$| 2     | 3     | 10    | -1    | -1    |\n",
    "\n",
    "What is the (a) mean, (b) variance, and the  of the data? \n",
    "\n",
    "*Show all work. Your answer should include the definition of mean, median, and variance in the context of discrete data.*"
   ]
  },
  {
   "cell_type": "markdown",
   "metadata": {},
   "source": [
    "**ANSWER**"
   ]
  },
  {
   "cell_type": "markdown",
   "metadata": {},
   "source": [
    "(A) Mean\n",
    "$$Mean = \\frac{1}{n}\\displaystyle\\sum_{i=0}^{4} x_i$$\n",
    "$$Mean = \\frac{1}{5}\\displaystyle\\sum2+3+10-1-1$$\n",
    "$$Mean = \\frac{13}{5} = 2.6$$\n",
    "\n",
    "(B) Variance\n",
    "$$Sample Variance = s^2 =  \\displaystyle\\sum_{i=0}^{4} \\frac{(x_i - E[X])^2}{n-1}$$\n",
    "$$s^2 =  \\displaystyle\\sum \\frac{(2 - 2.6)^2}{5-1} + \\frac{(3 - 2.6)^2}{5-1} + \\frac{(10 - 2.6)^2}{5-1} + \\frac{(-1 - 2.6)^2}{5-1} + \\frac{(-1 - 2.6)^2}{5-1}$$\n",
    "$$s^2 = 20.3$$\n",
    "\n",
    "(C) Median\n",
    "\n",
    "For the median we simply arrange the data in ascending order and pick the value in the middle.\n",
    "\n",
    "$$Median = 2$$\n",
    "\n"
   ]
  },
  {
   "cell_type": "markdown",
   "metadata": {},
   "source": [
    "## 5\n",
    "**[8 points]** Review of counting from probability theory. \n",
    "\n",
    "(a) How many different 7-place license plates are possible if the first 3 places only contain letters and the last 4 only contain numbers?\n",
    "\n",
    "(b) How many different batting orders are possible for a baseball team with 9 players?\n",
    "\n",
    "(c) How many batting orders of 5 players are possible for a team with 9 players total?\n",
    "\n",
    "(d) Let's assume this class has 26 students and we want to form project teams. How many unique teams of 3 are possible?\n",
    "\n",
    "*Hint: For each problem, determine if order matters, and if it should be calculated with or without replacement.*"
   ]
  },
  {
   "cell_type": "markdown",
   "metadata": {},
   "source": [
    "**ANSWER**"
   ]
  },
  {
   "cell_type": "markdown",
   "metadata": {},
   "source": [
    "(a) There are 26 alphabets and 10 digits $([0,9])$. Furthermore, there is no restriction on repetitions in license plates. Therefore the total number of ways to form the license plate is\n",
    "\n",
    "$$26 * 26 * 26 * 10 * 10 * 10 * 10 = 175760000$$\n",
    "\n",
    "(b) Repetitions are not possible now. We simply have to do $9!$ to get the different number of batting orders.\n",
    "\n",
    "$$9! = 9 * 8* 7 * 6 * 5 * 4 * 3*2*1 = 362880$$\n",
    "\n",
    "(c) For the first player we have 9 options. For the second player we ahve 8. So on and so forth.... In order to select 5 players we do the following\n",
    "\n",
    "$$ 9*8*7*6*5 = 15120 $$\n",
    "\n",
    "(d) In this case we can do 26 choose 3. This will allow us to restrict our selection to only unique teams. \n",
    "\n",
    "$$\\binom{26}{3} = \\frac{26!}{3!(26-3)!} = 2600$$\n",
    "\n",
    "\n"
   ]
  },
  {
   "cell_type": "markdown",
   "metadata": {},
   "source": [
    "# Linear Algebra"
   ]
  },
  {
   "cell_type": "markdown",
   "metadata": {},
   "source": [
    "## 6\n",
    "**[7 points]** **Matrix manipulations and multiplication**. Machine learning involves working with many matrices, so this exercise will provide you with the opportunity to practice those skills.\n",
    "\n",
    "Let\n",
    "$\\mathbf{A} =  \\begin{bmatrix}\n",
    "1 & 2 & 3 \\\\\n",
    "2 & 4 & 5 \\\\\n",
    "3 & 5 & 6 \n",
    "\\end{bmatrix}$, $\\mathbf{b} =  \\begin{bmatrix}\n",
    "-1  \\\\\n",
    "3  \\\\\n",
    "8  \n",
    "\\end{bmatrix}$, $\\mathbf{c} =  \\begin{bmatrix}\n",
    "4  \\\\\n",
    "-3  \\\\\n",
    "6  \n",
    "\\end{bmatrix}$, and $\\mathbf{I} =  \\begin{bmatrix}\n",
    "1 & 0 & 0 \\\\\n",
    "0 & 1 & 0 \\\\\n",
    "0 & 0 & 1 \n",
    "\\end{bmatrix}$\n",
    "\n",
    "Compute the following or indicate that it cannot be computed:\n",
    "\n",
    "1. $\\mathbf{A}\\mathbf{A}$\n",
    "2. $\\mathbf{A}\\mathbf{A}^T$\n",
    "3. $\\mathbf{A}\\mathbf{b}$\n",
    "4. $\\mathbf{A}\\mathbf{b}^T$\n",
    "5. $\\mathbf{b}\\mathbf{A}$\n",
    "6. $\\mathbf{b}^T\\mathbf{A}$\n",
    "7. $\\mathbf{b}\\mathbf{b}$\n",
    "8. $\\mathbf{b}^T\\mathbf{b}$\n",
    "9. $\\mathbf{b}\\mathbf{b}^T$\n",
    "10. $\\mathbf{b} + \\mathbf{c}^T$\n",
    "11. $\\mathbf{b}^T\\mathbf{b}^T$\n",
    "12. $\\mathbf{A}^{-1}\\mathbf{b}$\n",
    "13. $\\mathbf{A}\\circ\\mathbf{A}$\n",
    "14. $\\mathbf{b}\\circ\\mathbf{c}$\n",
    "\n",
    "*Note: The element-wise (or Hadamard) product is the product of each element in one matrix with the corresponding element in another matrix, and is represented by the symbol \"$\\circ$\".*"
   ]
  },
  {
   "cell_type": "markdown",
   "metadata": {},
   "source": [
    "**ANSWER**"
   ]
  },
  {
   "cell_type": "markdown",
   "metadata": {},
   "source": [
    "1. $\\mathbf{A}\\mathbf{A}$\n",
    "$$\\mathbf{A}\\mathbf{A} = \\begin{bmatrix}\n",
    "14 & 25 & 31 \\\\\n",
    "25 & 45 & 56 \\\\\n",
    "31 & 56 & 70 \n",
    "\\end{bmatrix}$$\n",
    "\n",
    "\n",
    "2. $\\mathbf{A}\\mathbf{A}^T$\n",
    "$$\\mathbf{A}\\mathbf{A}^T = \\begin{bmatrix}\n",
    "14 & 25 & 31 \\\\\n",
    "25 & 45 & 56 \\\\\n",
    "31 & 56 & 70 \n",
    "\\end{bmatrix}$$\n",
    "\n",
    "3. $\\mathbf{A}\\mathbf{b}$\n",
    "$$\\mathbf{A}\\mathbf{b} =  \\begin{bmatrix}\n",
    "29 \\\\\n",
    "50  \\\\\n",
    "60 \n",
    "\\end{bmatrix}$$\n",
    "4. $\\mathbf{A}\\mathbf{b}^T$\n",
    "This product cannot be computed as the dimensions do not work out.\n",
    "\n",
    "5. $\\mathbf{b}\\mathbf{A}$\n",
    "This product cannot be computed as the dimensions do not work out.\n",
    "\n",
    "6. $\\mathbf{b}^T\\mathbf{A}$\n",
    "$$\\mathbf{b}^T\\mathbf{A} = \\begin{bmatrix}\n",
    "29 & 50 & 60 \\\\\n",
    "\\end{bmatrix}$$\n",
    "\n",
    "7. $\\mathbf{b}\\mathbf{b}$\n",
    "This product cannot be computed as the dimensions do not work out.\n",
    "\n",
    "8. $\\mathbf{b}^T\\mathbf{b}$\n",
    "$$\\mathbf{b}^T\\mathbf{b} = \\begin{bmatrix}\n",
    "74 \\\\\n",
    "\\end{bmatrix}$$\n",
    "\n",
    "9. $\\mathbf{b}\\mathbf{b}^T$\n",
    "$$\\mathbf{b}\\mathbf{b}^T = \\begin{bmatrix}\n",
    "1 & -3 & -8 \\\\\n",
    "-3 & 9 & 24 \\\\\n",
    "-8 & 24 & 64 \n",
    "\\end{bmatrix}$$\n",
    "\n",
    "\n",
    "10. $\\mathbf{b} + \\mathbf{c}^T$\n",
    "This sum cannot be computed as the dimensions do not work out.\n",
    "\n",
    "11. $\\mathbf{b}^T\\mathbf{b}^T$\n",
    "This product cannot be computed as the dimensions do not work out.\n",
    "\n",
    "12. $\\mathbf{A}^{-1}\\mathbf{b}$\n",
    "First, we compute the inverse of the matrix A.\n",
    "\n",
    "$$\\mathbf{A}^{-1} = \\begin{bmatrix}\n",
    "1 & -3 & 2 \\\\\n",
    "-3 & 3 & -1 \\\\\n",
    "2 & -1 & 0 \n",
    "\\end{bmatrix}$$\n",
    "\n",
    "$$\\mathbf{A}^{-1}\\mathbf{b} = \\begin{bmatrix}\n",
    "6 \\\\\n",
    "4  \\\\\n",
    "-5 \n",
    "\\end{bmatrix}$$\n",
    "\n",
    "13. $$\\mathbf{A}\\circ\\mathbf{A} = \\begin{bmatrix}\n",
    "1 & 4 & 9 \\\\\n",
    "4 & 16 & 25 \\\\\n",
    "9 & 25 & 36 \n",
    "\\end{bmatrix}$$\n",
    "\n",
    "14. $$\\mathbf{b}\\circ\\mathbf{c} = \\begin{bmatrix}\n",
    "-4 \\\\\n",
    "-9 \\\\\n",
    "48 \n",
    "\\end{bmatrix}$$"
   ]
  },
  {
   "cell_type": "markdown",
   "metadata": {},
   "source": [
    "## 7\n",
    "**[8 points]** **Eigenvectors and eigenvalues**. Eigenvectors and eigenvalues are useful for some machine learning algorithms, but the concepts take time to solidly grasp. For an intuitive review of these concepts, explore this [interactive website at Setosa.io](http://setosa.io/ev/eigenvectors-and-eigenvalues/). Also, the series of linear algebra videos by Grant Sanderson of 3Brown1Blue are excellent and can be viewed on youtube [here](https://www.youtube.com/playlist?list=PLZHQObOWTQDPD3MizzM2xVFitgF8hE_ab).\n",
    "\n",
    "1. Calculate the eigenvalues and corresponding eigenvectors of matrix $\\mathbf{A}$ above, from the last question.\n",
    "2. Choose one of the eigenvector/eigenvalue pairs, $\\mathbf{v}$ and $\\lambda$, and show that $\\mathbf{A} \\mathbf{v} = \\lambda \\mathbf{v}$. Also show that this relationship extends to higher orders: $\\mathbf{A} \\mathbf{A} \\mathbf{v} = \\lambda^2 \\mathbf{v}$\n",
    "3. Show that the eigenvectors are orthogonal to one another (e.g. their inner product is zero). This is true for real, symmetric matrices."
   ]
  },
  {
   "cell_type": "markdown",
   "metadata": {},
   "source": [
    "**ANSWER**"
   ]
  },
  {
   "cell_type": "markdown",
   "metadata": {},
   "source": [
    "1. To get the eigen values and eigen vectors we simply solve for $\\lambda$ in the equation $ (A - \\lambda I)x = 0$, where x refers to the eigen vectors and $\\lambda$ are the eigen values. To do this we first solve for $\\lambda$ in the following determinant.\n",
    "\n",
    "$$\\begin{bmatrix}\n",
    "1- \\lambda & 4 & 9 \\\\\n",
    "4 & 16- \\lambda & 25 \\\\\n",
    "9 & 25 & 36- \\lambda \n",
    "\\end{bmatrix} = 0$$\n",
    "\n",
    "Doing so, we get the values of $\\lambda = 11.35, −0.52, 0.17$.\n",
    "\n",
    "We then use the values of the above lambdas to solve for the three possible x's (eigen vectors). \n",
    "\n",
    "Doing so, we get the following eigen vectors - $\\begin{bmatrix}\n",
    "0.45 \\\\\n",
    "0.80  \\\\\n",
    "1.00\n",
    "\\end{bmatrix}, \\begin{bmatrix}\n",
    "-1.25 \\\\\n",
    "-0.55  \\\\\n",
    "1.00\n",
    "\\end{bmatrix}, \\begin{bmatrix}\n",
    "1.80 \\\\\n",
    "-2.25  \\\\\n",
    "1.00\n",
    "\\end{bmatrix}$\n",
    "\n",
    "\n",
    "2. We shall choose the eigen value $\\lambda = 0.17$ and the eigenvector $\\begin{bmatrix}\n",
    "1.80 \\\\\n",
    "-2.25  \\\\\n",
    "1.00\n",
    "\\end{bmatrix}$ to prove the relation: $$\\mathbf{A} \\mathbf{v} = \\lambda \\mathbf{v}$$\n",
    "\n",
    "$$\\mathbf{A}\\mathbf{v} =  \\begin{bmatrix}\n",
    "1 & 2 & 3 \\\\\n",
    "2 & 4 & 5 \\\\\n",
    "3 & 5 & 6 \n",
    "\\end{bmatrix} \\begin{bmatrix}\n",
    "1.80 \\\\\n",
    "-2.25  \\\\\n",
    "1.00\n",
    "\\end{bmatrix} = \\begin{bmatrix}\n",
    "0.3 \\\\\n",
    "-0.4 \\\\\n",
    "0.15\n",
    "\\end{bmatrix}$$\n",
    "\n",
    "Similarly, we do the product  $\\lambda \\mathbf{v}$\n",
    "\n",
    "$$\\lambda \\mathbf{v} = 0.17 * \\begin{bmatrix}\n",
    "1.80 \\\\\n",
    "-2.25  \\\\\n",
    "1.00\n",
    "\\end{bmatrix} = \\begin{bmatrix}\n",
    "0.3 \\\\\n",
    "-0.4 \\\\\n",
    "0.15\n",
    "\\end{bmatrix}$$\n",
    "\n",
    "Clearly the left-hand side of the equation equals the right-hand side. We continue to prove the relation $\\mathbf{A} \\mathbf{A} \\mathbf{v} = \\lambda^2 \\mathbf{v}$\n",
    "\n",
    "$$\\mathbf{A} \\mathbf{A} \\mathbf{v} = \\begin{bmatrix}\n",
    "1 & 2 & 3 \\\\\n",
    "2 & 4 & 5 \\\\\n",
    "3 & 5 & 6 \n",
    "\\end{bmatrix}\\begin{bmatrix}\n",
    "1 & 2 & 3 \\\\\n",
    "2 & 4 & 5 \\\\\n",
    "3 & 5 & 6 \n",
    "\\end{bmatrix}\\begin{bmatrix}\n",
    "1.80 \\\\\n",
    "-2.25  \\\\\n",
    "1.00\n",
    "\\end{bmatrix} = \\begin{bmatrix}\n",
    "14 & 25 & 31 \\\\\n",
    "25 & 45 & 56 \\\\\n",
    "31 & 56 & 70 \n",
    "\\end{bmatrix}\\begin{bmatrix}\n",
    "1.80 \\\\\n",
    "-2.25  \\\\\n",
    "1.00\n",
    "\\end{bmatrix} = \\begin{bmatrix}\n",
    "-0.05 \\\\\n",
    "-0.25 \\\\\n",
    "-0.2\n",
    "\\end{bmatrix}$$\n",
    "\n",
    "$$\\lambda^2 \\mathbf{v} =  0.03\\begin{bmatrix}\n",
    "1.80 \\\\\n",
    "-2.25  \\\\\n",
    "1.00\n",
    "\\end{bmatrix} = \\begin{bmatrix}\n",
    "-0.05 \\\\\n",
    "-0.25 \\\\\n",
    "-0.2\n",
    "\\end{bmatrix}$$\n",
    "\n",
    "We can also prove the above relationship in the following manner:\n",
    "\n",
    "$$\\mathbf{A}\\mathbf{A}\\mathbf{v} = \\mathbf{A}(\\lambda\\mathbf{v}) = \\lambda\\mathbf{A}\\mathbf{v} = \\lambda(\\lambda\\mathbf{v}) = \\lambda^2 \\mathbf{v}$$\n",
    "\n",
    "3. Finally, we wish to prove the three eigen vectors are orthogonal. To do so we may simply take the dot product and expect it to be zero. \n",
    "\n",
    "We show one such case as follows:\n",
    "\n",
    "$$\\begin{bmatrix}\n",
    "0.45 \\\\\n",
    "0.80  \\\\\n",
    "1.00\n",
    "\\end{bmatrix} \\begin{bmatrix}\n",
    "-1.25 \\\\\n",
    "-0.55  \\\\\n",
    "1.00\n",
    "\\end{bmatrix} = -0.5625 - 0.44 + 1 = 0$$. \n",
    "\n",
    "This relationship can similarly be proven for all orther combinations of eigen vectors. \n",
    "\n"
   ]
  },
  {
   "cell_type": "markdown",
   "metadata": {},
   "source": [
    "# Numerical Programming"
   ]
  },
  {
   "cell_type": "markdown",
   "metadata": {},
   "source": [
    "## 8\n",
    "**[10 points]** Loading data and gathering insights from a real dataset\n",
    "\n",
    "**Data**. The data for this problem can be found in the `data` subfolder in the `assignments` folder on [github](https://github.com/kylebradbury/ids705). The filename is `egrid2016.xlsx`. This dataset is the Environmental Protection Agency's (EPA) [Emissions & Generation Resource Integrated Database (eGRID)](https://www.epa.gov/energy/emissions-generation-resource-integrated-database-egrid) containing information about all power plants in the United States, the amount of generation they produce, what fuel they use, the location of the plant, and many more quantities. We'll be using a subset of those data.\n",
    "\n",
    "The fields we'll be using include:\t\t\t\t\t\n",
    "    \n",
    "|field    |description|\n",
    "|:-----   |:-----|\n",
    "|SEQPLT16 |eGRID2016 Plant file sequence number (the index)| \n",
    "|PSTATABB |Plant state abbreviation|\n",
    "|PNAME    |Plant name |\n",
    "|LAT      |Plant latitude |\n",
    "|LON      |Plant longitude|\n",
    "|PLPRMFL  |Plant primary fuel |\n",
    "|CAPFAC   |Plant capacity factor |\n",
    "|NAMEPCAP |Plant nameplate capacity (Megawatts MW)|\n",
    "|PLNGENAN |Plant annual net generation (Megawatt-hours MWh)|\n",
    "|PLCO2EQA |Plant annual CO2 equivalent emissions (tons)|\n",
    "\n",
    "For more details on the data, you can refer to the [eGrid technical documents](https://www.epa.gov/sites/production/files/2018-02/documents/egrid2016_technicalsupportdocument_0.pdf). For example, you may want to review page 45 and the section \"Plant Primary Fuel (PLPRMFL)\", which gives the full names of the fuel types including WND for wind, NG for natural gas, BIT for Bituminous coal, etc.\n",
    "\n",
    "There also are a couple of \"gotchas\" to watch out for with this dataset:\n",
    "- The headers are on the second row and you'll want to ignore the first row (they're more detailed descriptions of the headers).\n",
    "- NaN values represent blanks in the data. These will appear regularly in real-world data, so getting experience working with it will be important.\n",
    "\n",
    "**Your objective**. For this dataset, your goal is answer the following questions about electricity generation in the United States:\n",
    "\n",
    "**(a)** Which plant has generated the most energy (measured in MWh)?\n",
    "\n",
    "**(b)** What is the name of the northern-most power plant in the United States?\n",
    "\n",
    "**(c)** What is the state where the northern-most power plant in the United States is located?\n",
    "\n",
    "**(d)** Plot a bar plot showing the amount of energy produced by each fuel for the plant. \n",
    "\n",
    "**(e)** From the plot in (d), which fuel for generation produces the most energy (MWh) in the United States?"
   ]
  },
  {
   "cell_type": "markdown",
   "metadata": {},
   "source": [
    "**ANSWER**"
   ]
  },
  {
   "cell_type": "code",
   "execution_count": 176,
   "metadata": {},
   "outputs": [
    {
     "data": {
      "text/html": [
       "<div>\n",
       "<style scoped>\n",
       "    .dataframe tbody tr th:only-of-type {\n",
       "        vertical-align: middle;\n",
       "    }\n",
       "\n",
       "    .dataframe tbody tr th {\n",
       "        vertical-align: top;\n",
       "    }\n",
       "\n",
       "    .dataframe thead th {\n",
       "        text-align: right;\n",
       "    }\n",
       "</style>\n",
       "<table border=\"1\" class=\"dataframe\">\n",
       "  <thead>\n",
       "    <tr style=\"text-align: right;\">\n",
       "      <th></th>\n",
       "      <th>eGRID2016 Plant file sequence number</th>\n",
       "      <th>Plant state abbreviation</th>\n",
       "      <th>Plant name</th>\n",
       "      <th>Plant latitude</th>\n",
       "      <th>Plant longitude</th>\n",
       "      <th>Plant primary fuel</th>\n",
       "      <th>Plant capacity factor</th>\n",
       "      <th>Plant nameplate capacity (MW)</th>\n",
       "      <th>Plant annual net generation (MWh)</th>\n",
       "      <th>Plant annual CO2 equivalent emissions (tons)</th>\n",
       "    </tr>\n",
       "  </thead>\n",
       "  <tbody>\n",
       "    <tr>\n",
       "      <th>0</th>\n",
       "      <td>SEQPLT16</td>\n",
       "      <td>PSTATABB</td>\n",
       "      <td>PNAME</td>\n",
       "      <td>LAT</td>\n",
       "      <td>LON</td>\n",
       "      <td>PLPRMFL</td>\n",
       "      <td>CAPFAC</td>\n",
       "      <td>NAMEPCAP</td>\n",
       "      <td>PLNGENAN</td>\n",
       "      <td>PLCO2EQA</td>\n",
       "    </tr>\n",
       "    <tr>\n",
       "      <th>1</th>\n",
       "      <td>1</td>\n",
       "      <td>AK</td>\n",
       "      <td>7-Mile Ridge Wind Project</td>\n",
       "      <td>63.2107</td>\n",
       "      <td>-143.247</td>\n",
       "      <td>WND</td>\n",
       "      <td>NaN</td>\n",
       "      <td>1.8</td>\n",
       "      <td>NaN</td>\n",
       "      <td>NaN</td>\n",
       "    </tr>\n",
       "    <tr>\n",
       "      <th>2</th>\n",
       "      <td>2</td>\n",
       "      <td>AK</td>\n",
       "      <td>Agrium Kenai Nitrogen Operations</td>\n",
       "      <td>60.6732</td>\n",
       "      <td>-151.378</td>\n",
       "      <td>NG</td>\n",
       "      <td>NaN</td>\n",
       "      <td>21.6</td>\n",
       "      <td>NaN</td>\n",
       "      <td>NaN</td>\n",
       "    </tr>\n",
       "    <tr>\n",
       "      <th>3</th>\n",
       "      <td>3</td>\n",
       "      <td>AK</td>\n",
       "      <td>Alakanuk</td>\n",
       "      <td>62.6833</td>\n",
       "      <td>-164.654</td>\n",
       "      <td>DFO</td>\n",
       "      <td>0.05326</td>\n",
       "      <td>2.6</td>\n",
       "      <td>1213</td>\n",
       "      <td>1049.86</td>\n",
       "    </tr>\n",
       "    <tr>\n",
       "      <th>4</th>\n",
       "      <td>4</td>\n",
       "      <td>AK</td>\n",
       "      <td>Allison Creek Hydro</td>\n",
       "      <td>61.0844</td>\n",
       "      <td>-146.353</td>\n",
       "      <td>WAT</td>\n",
       "      <td>0.01547</td>\n",
       "      <td>6.5</td>\n",
       "      <td>881</td>\n",
       "      <td>0</td>\n",
       "    </tr>\n",
       "  </tbody>\n",
       "</table>\n",
       "</div>"
      ],
      "text/plain": [
       "  eGRID2016 Plant file sequence number Plant state abbreviation  \\\n",
       "0                             SEQPLT16                 PSTATABB   \n",
       "1                                    1                       AK   \n",
       "2                                    2                       AK   \n",
       "3                                    3                       AK   \n",
       "4                                    4                       AK   \n",
       "\n",
       "                         Plant name Plant latitude Plant longitude  \\\n",
       "0                             PNAME            LAT             LON   \n",
       "1         7-Mile Ridge Wind Project        63.2107        -143.247   \n",
       "2  Agrium Kenai Nitrogen Operations        60.6732        -151.378   \n",
       "3                          Alakanuk        62.6833        -164.654   \n",
       "4               Allison Creek Hydro        61.0844        -146.353   \n",
       "\n",
       "  Plant primary fuel Plant capacity factor Plant nameplate capacity (MW)  \\\n",
       "0            PLPRMFL                CAPFAC                      NAMEPCAP   \n",
       "1                WND                   NaN                           1.8   \n",
       "2                 NG                   NaN                          21.6   \n",
       "3                DFO               0.05326                           2.6   \n",
       "4                WAT               0.01547                           6.5   \n",
       "\n",
       "  Plant annual net generation (MWh)  \\\n",
       "0                          PLNGENAN   \n",
       "1                               NaN   \n",
       "2                               NaN   \n",
       "3                              1213   \n",
       "4                               881   \n",
       "\n",
       "  Plant annual CO2 equivalent emissions (tons)  \n",
       "0                                     PLCO2EQA  \n",
       "1                                          NaN  \n",
       "2                                          NaN  \n",
       "3                                      1049.86  \n",
       "4                                            0  "
      ]
     },
     "execution_count": 176,
     "metadata": {},
     "output_type": "execute_result"
    }
   ],
   "source": [
    "#Read the excel file in\n",
    "import pandas as pd\n",
    "\n",
    "eg = pd.read_excel('C://Users//Vishaal//Documents//GitHub//ids705//assignments//data/egrid2016.xlsx')\n",
    "eg.head()"
   ]
  },
  {
   "cell_type": "code",
   "execution_count": 177,
   "metadata": {},
   "outputs": [],
   "source": [
    "#Take care of the second row containing the column names. All Nan values have been dropped from the dataframe. \n",
    "new_header = eg.iloc[0]\n",
    "eg = eg.iloc[1:]\n",
    "eg.columns = new_header\n",
    "eg  = eg.dropna()"
   ]
  },
  {
   "cell_type": "markdown",
   "metadata": {},
   "source": [
    "**8. a**"
   ]
  },
  {
   "cell_type": "code",
   "execution_count": 45,
   "metadata": {},
   "outputs": [
    {
     "data": {
      "text/html": [
       "<div>\n",
       "<style scoped>\n",
       "    .dataframe tbody tr th:only-of-type {\n",
       "        vertical-align: middle;\n",
       "    }\n",
       "\n",
       "    .dataframe tbody tr th {\n",
       "        vertical-align: top;\n",
       "    }\n",
       "\n",
       "    .dataframe thead th {\n",
       "        text-align: right;\n",
       "    }\n",
       "</style>\n",
       "<table border=\"1\" class=\"dataframe\">\n",
       "  <thead>\n",
       "    <tr style=\"text-align: right;\">\n",
       "      <th></th>\n",
       "      <th>SEQPLT16</th>\n",
       "      <th>PSTATABB</th>\n",
       "      <th>PNAME</th>\n",
       "      <th>LAT</th>\n",
       "      <th>LON</th>\n",
       "      <th>PLPRMFL</th>\n",
       "      <th>CAPFAC</th>\n",
       "      <th>NAMEPCAP</th>\n",
       "      <th>PLNGENAN</th>\n",
       "      <th>PLCO2EQA</th>\n",
       "    </tr>\n",
       "  </thead>\n",
       "  <tbody>\n",
       "    <tr>\n",
       "      <th>391</th>\n",
       "      <td>391</td>\n",
       "      <td>AZ</td>\n",
       "      <td>Palo Verde</td>\n",
       "      <td>33.3881</td>\n",
       "      <td>-112.862</td>\n",
       "      <td>NUC</td>\n",
       "      <td>0.87801</td>\n",
       "      <td>4209.6</td>\n",
       "      <td>3.23775e+07</td>\n",
       "      <td>0</td>\n",
       "    </tr>\n",
       "  </tbody>\n",
       "</table>\n",
       "</div>"
      ],
      "text/plain": [
       "0   SEQPLT16 PSTATABB       PNAME      LAT      LON PLPRMFL   CAPFAC NAMEPCAP  \\\n",
       "391      391       AZ  Palo Verde  33.3881 -112.862     NUC  0.87801   4209.6   \n",
       "\n",
       "0       PLNGENAN PLCO2EQA  \n",
       "391  3.23775e+07        0  "
      ]
     },
     "execution_count": 45,
     "metadata": {},
     "output_type": "execute_result"
    }
   ],
   "source": [
    "max = eg['PLNGENAN'].max()\n",
    "eg.loc[eg['PLNGENAN'] == max]"
   ]
  },
  {
   "cell_type": "markdown",
   "metadata": {},
   "source": [
    "**The plant Palo Verde in AZ has generated the maximum power output in MWh.** "
   ]
  },
  {
   "cell_type": "markdown",
   "metadata": {},
   "source": [
    "**8.b**"
   ]
  },
  {
   "cell_type": "code",
   "execution_count": 46,
   "metadata": {},
   "outputs": [
    {
     "data": {
      "text/html": [
       "<div>\n",
       "<style scoped>\n",
       "    .dataframe tbody tr th:only-of-type {\n",
       "        vertical-align: middle;\n",
       "    }\n",
       "\n",
       "    .dataframe tbody tr th {\n",
       "        vertical-align: top;\n",
       "    }\n",
       "\n",
       "    .dataframe thead th {\n",
       "        text-align: right;\n",
       "    }\n",
       "</style>\n",
       "<table border=\"1\" class=\"dataframe\">\n",
       "  <thead>\n",
       "    <tr style=\"text-align: right;\">\n",
       "      <th></th>\n",
       "      <th>SEQPLT16</th>\n",
       "      <th>PSTATABB</th>\n",
       "      <th>PNAME</th>\n",
       "      <th>LAT</th>\n",
       "      <th>LON</th>\n",
       "      <th>PLPRMFL</th>\n",
       "      <th>CAPFAC</th>\n",
       "      <th>NAMEPCAP</th>\n",
       "      <th>PLNGENAN</th>\n",
       "      <th>PLCO2EQA</th>\n",
       "    </tr>\n",
       "  </thead>\n",
       "  <tbody>\n",
       "    <tr>\n",
       "      <th>12</th>\n",
       "      <td>12</td>\n",
       "      <td>AK</td>\n",
       "      <td>Barrow</td>\n",
       "      <td>71.292</td>\n",
       "      <td>-156.779</td>\n",
       "      <td>NG</td>\n",
       "      <td>0.28208</td>\n",
       "      <td>20.3</td>\n",
       "      <td>50162</td>\n",
       "      <td>44205.2</td>\n",
       "    </tr>\n",
       "  </tbody>\n",
       "</table>\n",
       "</div>"
      ],
      "text/plain": [
       "0  SEQPLT16 PSTATABB   PNAME     LAT      LON PLPRMFL   CAPFAC NAMEPCAP  \\\n",
       "12       12       AK  Barrow  71.292 -156.779      NG  0.28208     20.3   \n",
       "\n",
       "0  PLNGENAN PLCO2EQA  \n",
       "12    50162  44205.2  "
      ]
     },
     "execution_count": 46,
     "metadata": {},
     "output_type": "execute_result"
    }
   ],
   "source": [
    "maxl = eg['LAT'].max()\n",
    "eg.loc[eg['LAT'] == maxl]"
   ]
  },
  {
   "cell_type": "markdown",
   "metadata": {},
   "source": [
    "**The northern most plant is in Barrow Alaska.**"
   ]
  },
  {
   "cell_type": "markdown",
   "metadata": {},
   "source": [
    "**8. c**"
   ]
  },
  {
   "cell_type": "markdown",
   "metadata": {},
   "source": [
    "**The northern most plant is located in Alaska.**"
   ]
  },
  {
   "cell_type": "markdown",
   "metadata": {},
   "source": [
    "**8.d**"
   ]
  },
  {
   "cell_type": "code",
   "execution_count": 179,
   "metadata": {},
   "outputs": [
    {
     "data": {
      "image/png": "[encoded data removed]",
      "text/plain": [
       "<Figure size 432x288 with 1 Axes>"
      ]
     },
     "metadata": {
      "needs_background": "light"
     },
     "output_type": "display_data"
    }
   ],
   "source": [
    "import matplotlib.pyplot as plt\n",
    "\n",
    "#Convert to float dtype\n",
    "eg['PLNGENAN'] = eg['PLNGENAN'].astype(float)\n",
    "#Groupby the energy source and take mean of annual production\n",
    "eg_1 = eg.groupby('PLPRMFL', as_index=False)['PLNGENAN'].sum()\n",
    "#plotting bar plot and setting axes labels and titles\n",
    "plt.bar(eg_1['PLPRMFL'], eg_1['PLNGENAN'])\n",
    "plt.xticks(rotation = 90)\n",
    "plt.xlabel('Source of Energy')\n",
    "plt.ylabel('MWh Energy Produced Annually')\n",
    "plt.title('Annual Energy Production in the USA by Source')\n",
    "plt.show()"
   ]
  },
  {
   "cell_type": "markdown",
   "metadata": {},
   "source": [
    "**8.e**"
   ]
  },
  {
   "cell_type": "markdown",
   "metadata": {},
   "source": [
    "**Natural Gas is the major source of energy in the United States.**"
   ]
  },
  {
   "cell_type": "markdown",
   "metadata": {},
   "source": [
    "## 9\n",
    "**[8 points]** Speed comparison between vectorized and non-vectorized code. Begin by creating an array of 10 million random numbers using the numpy random.randn module. Compute the sum of the squares first in a for loop, then using Numpy's `dot` module. Time how long it takes to compute each and report the results and report the output. How many times faster is the vectorized code than the for loop approach?\n",
    "\n",
    "*Note: all code should be well commented, properly formatted, and your answers should be output using the `print()` function as follows (where the # represents your answers, to a reasonable precision):\n",
    "\n",
    "`Time [sec] (non-vectorized): **4.807 s**\n",
    "\n",
    "`Time [sec] (vectorized):     **0.00498 s**\n",
    "\n",
    "`The vectorized code is 1000 times faster than the vectorized code`"
   ]
  },
  {
   "cell_type": "markdown",
   "metadata": {},
   "source": [
    "**Answer**"
   ]
  },
  {
   "cell_type": "markdown",
   "metadata": {},
   "source": [
    "**Non-Vectorized Code**"
   ]
  },
  {
   "cell_type": "code",
   "execution_count": 102,
   "metadata": {},
   "outputs": [
    {
     "name": "stdout",
     "output_type": "stream",
     "text": [
      "Non-Vectorized Time =  4.807978391647339\n"
     ]
    }
   ],
   "source": [
    "import numpy as np\n",
    "import time\n",
    "#Generate 10 million random normally distributed numbers\n",
    "num = np.random.randn(10000000)\n",
    "\n",
    "#measure start time\n",
    "t1 = time.time() \n",
    "\n",
    "#for loop to calculate the sum of squares\n",
    "for i in range (len(num)):\n",
    "    num[i] = num[i]**2\n",
    "\n",
    "s1 = np.sum(num)\n",
    "#calcaulte  the end time  \n",
    "t2 = time.time()\n",
    "\n",
    "print('Non-Vectorized Time = ', t2 - t1)"
   ]
  },
  {
   "cell_type": "markdown",
   "metadata": {},
   "source": [
    "**Vectorized Code**"
   ]
  },
  {
   "cell_type": "code",
   "execution_count": 103,
   "metadata": {},
   "outputs": [
    {
     "name": "stdout",
     "output_type": "stream",
     "text": [
      "Vectorized Time =  0.004986763000488281\n"
     ]
    }
   ],
   "source": [
    "#Generate 2 numpy arrays of 10 million random normally distributed numbers\n",
    "num1 = np.random.randn(10000000)\n",
    "\n",
    "#measure start time\n",
    "t1 = time.time() \n",
    "\n",
    "#vectorized operation to calculate the sum of squares\n",
    "num3 = np.dot(num1, num1)\n",
    "s2 = np.sum(num3)\n",
    "    \n",
    "#calcaulte  the end time  \n",
    "t2 = time.time()\n",
    "\n",
    "print('Vectorized Time = ', t2 - t1)"
   ]
  },
  {
   "cell_type": "markdown",
   "metadata": {},
   "source": [
    "## 10\n",
    "**[10 points]** One popular Agile development framework is Scrum (a paradigm recommended for data science projects). It emphasizes the continual evolution of code for projects, becoming progressively better, but starting with a quickly developed minimum viable product. This often means that code written early on is not optimized, and that's a good thing - it's best to get it to work first before optimizing. Imagine that you wrote the following code during a sprint towards getting an end-to-end system working. Vectorize the following code and show the difference in speed between the current implementation and a vectorized version.\n",
    "\n",
    "The function below computes the function $f(x,y) = x^2 - 2 y^2$ and determines whether this quantity is above or below a given threshold, `thresh=0`. This is done for $x,y \\in \\{-4,4\\}$, over a 2,000-by-2,000 grid covering that domain.\n",
    "\n",
    "(a) Vectorize this code and demonstrate (as in the last exercise) the speed increase through vectorization and (b) plot the resulting data - both the function $f(x,y)$ and the thresholded output - using [`imshow`](https://matplotlib.org/api/_as_gen/matplotlib.pyplot.imshow.html?highlight=matplotlib%20pyplot%20imshow#matplotlib.pyplot.imshow) from `matplotlib`.\n",
    "\n",
    "*Hint: look at the `numpy` [`meshgrid`](https://docs.scipy.org/doc/numpy-1.13.0/reference/generated/numpy.meshgrid.html) documentation*"
   ]
  },
  {
   "cell_type": "markdown",
   "metadata": {},
   "source": [
    "**ANSWER**"
   ]
  },
  {
   "cell_type": "code",
   "execution_count": 180,
   "metadata": {},
   "outputs": [],
   "source": [
    "import numpy as np\n",
    "import time\n",
    "import matplotlib.pyplot as plt\n",
    "\n",
    "nvalues = 2000\n",
    "xvalues = np.linspace(-4,4,nvalues)\n",
    "yvalues = np.linspace(-4,4,nvalues)\n",
    "thresh  = 0\n",
    "\n",
    "# Nonvectorized implementation\n",
    "t0 = time.time()\n",
    "f = np.zeros((nvalues,nvalues))\n",
    "f_thresholded = np.zeros((nvalues,nvalues))\n",
    "for ix, x in enumerate(xvalues):\n",
    "    for iy, y in enumerate(yvalues):\n",
    "        f[ix,iy]             = x**2 - 2 * y**2\n",
    "        f_thresholded[ix,iy] = f[ix,iy] > thresh\n",
    "t1 = time.time()\n",
    "time_nonvectorized = t1 - t0\n",
    "\n",
    "# Vectorized implementation\n",
    "t0v = time.time()\n",
    "fv = np.zeros((nvalues,nvalues))\n",
    "f_thresholdedv = np.zeros((nvalues,nvalues))\n",
    "#Create a mesh/matrix of values so that the function can be calcaulted in a vectorised manner\n",
    "yv, xv = np.meshgrid(yvalues, xvalues)\n",
    "fv = xv**2 - 2*yv**2\n",
    "f_thresholdedv = fv > thresh\n",
    "t1v = time.time()\n",
    "time_vectorized = t1v - t0v\n"
   ]
  },
  {
   "cell_type": "code",
   "execution_count": 181,
   "metadata": {},
   "outputs": [
    {
     "name": "stdout",
     "output_type": "stream",
     "text": [
      "Non - Vectorized time =  28.684417963027954 s\n",
      "Vectorized time =  0.37689661979675293 s\n"
     ]
    }
   ],
   "source": [
    "# Vectorization speed performance results\n",
    "print('Non - Vectorized time = ', time_nonvectorized, 's')\n",
    "print('Vectorized time = ', time_vectorized, 's')"
   ]
  },
  {
   "cell_type": "code",
   "execution_count": 138,
   "metadata": {},
   "outputs": [
    {
     "data": {
      "image/png": "[encoded data removed]",
      "text/plain": [
       "<Figure size 432x288 with 1 Axes>"
      ]
     },
     "metadata": {
      "needs_background": "light"
     },
     "output_type": "display_data"
    }
   ],
   "source": [
    "# Plot the function f(x,y)\n",
    "plt.imshow(fv)\n",
    "plt.show()"
   ]
  },
  {
   "cell_type": "code",
   "execution_count": 139,
   "metadata": {},
   "outputs": [
    {
     "data": {
      "image/png": "[encoded data removed]",
      "text/plain": [
       "<Figure size 432x288 with 1 Axes>"
      ]
     },
     "metadata": {
      "needs_background": "light"
     },
     "output_type": "display_data"
    }
   ],
   "source": [
    "# Plot the threshold function f(x,y)\n",
    "plt.imshow(f_thresholdedv)\n",
    "plt.show()"
   ]
  },
  {
   "cell_type": "markdown",
   "metadata": {},
   "source": [
    "## 11\n",
    "**[10 points]** This exercise will walk through some basic numerical programming exercises.\n",
    "1. Synthesize $n=10^4$ normally distributed data points with mean $\\mu=2$ and a standard deviation of $\\sigma=1$. Call these observations from a random variable $X$, and call the vector of observations that you generate, $\\textbf{x}$.\n",
    "2. Calculate the mean and standard deviation of $\\textbf{x}$ to validate (1) and provide the result to a precision of four significant figures.\n",
    "3. Plot a histogram of the data in $\\textbf{x}$ with 30 bins\n",
    "4. What is the 90th percentile of $\\textbf{x}$? The 90th percentile is the value below which 90% of observations can be found.\n",
    "5. What is the 99th percentile of $\\textbf{x}$?\n",
    "6. Now synthesize $n=10^4$ normally distributed data points with mean $\\mu=0$ and a standard deviation of $\\sigma=3$. Call these observations from a random variable $Y$, and call the vector of observations that you generate, $\\textbf{y}$.\n",
    "7. Create a new figure and plot the histogram of the data in $\\textbf{y}$ on the same axes with the histogram of $\\textbf{x}$, so that both histograms can be seen and compared.\n",
    "8. Using the observations from $\\textbf{x}$ and $\\textbf{y}$, estimate $E[XY]$"
   ]
  },
  {
   "cell_type": "markdown",
   "metadata": {},
   "source": [
    "**ANSWER**"
   ]
  },
  {
   "cell_type": "markdown",
   "metadata": {},
   "source": [
    "**1**"
   ]
  },
  {
   "cell_type": "code",
   "execution_count": 182,
   "metadata": {},
   "outputs": [
    {
     "data": {
      "text/plain": [
       "array([2.94554003, 2.91367466, 3.01688806, ..., 0.60094019, 2.63540386,\n",
       "       2.1148088 ])"
      ]
     },
     "execution_count": 182,
     "metadata": {},
     "output_type": "execute_result"
    }
   ],
   "source": [
    "x = 1*np.random.randn(10000) + 2\n",
    "x"
   ]
  },
  {
   "cell_type": "markdown",
   "metadata": {},
   "source": [
    "**2**"
   ]
  },
  {
   "cell_type": "code",
   "execution_count": 146,
   "metadata": {},
   "outputs": [
    {
     "name": "stdout",
     "output_type": "stream",
     "text": [
      "Mean is 1.9848\n",
      "Standard Deviation is 1.0044\n"
     ]
    }
   ],
   "source": [
    "print('Mean is %.4f' % np.mean(x) )\n",
    "print('Standard Deviation is %.4f' % np.std(x))"
   ]
  },
  {
   "cell_type": "markdown",
   "metadata": {},
   "source": [
    "**3**"
   ]
  },
  {
   "cell_type": "code",
   "execution_count": 151,
   "metadata": {},
   "outputs": [
    {
     "data": {
      "text/plain": [
       "<function matplotlib.pyplot.show(*args, **kw)>"
      ]
     },
     "execution_count": 151,
     "metadata": {},
     "output_type": "execute_result"
    },
    {
     "data": {
      "image/png": "[encoded data removed]",
      "text/plain": [
       "<Figure size 432x288 with 1 Axes>"
      ]
     },
     "metadata": {
      "needs_background": "light"
     },
     "output_type": "display_data"
    }
   ],
   "source": [
    "plt.hist(x, bins=30)\n",
    "plt.title('Histogram with Mean = 2 and Sd = 1')\n",
    "plt.show"
   ]
  },
  {
   "cell_type": "markdown",
   "metadata": {},
   "source": [
    "**4**"
   ]
  },
  {
   "cell_type": "code",
   "execution_count": 152,
   "metadata": {},
   "outputs": [
    {
     "data": {
      "text/plain": [
       "3.2842262309272607"
      ]
     },
     "execution_count": 152,
     "metadata": {},
     "output_type": "execute_result"
    }
   ],
   "source": [
    "np.percentile(x,90)"
   ]
  },
  {
   "cell_type": "markdown",
   "metadata": {},
   "source": [
    "**5**"
   ]
  },
  {
   "cell_type": "code",
   "execution_count": 153,
   "metadata": {},
   "outputs": [
    {
     "data": {
      "text/plain": [
       "4.387881863668856"
      ]
     },
     "execution_count": 153,
     "metadata": {},
     "output_type": "execute_result"
    }
   ],
   "source": [
    "np.percentile(x,99)"
   ]
  },
  {
   "cell_type": "markdown",
   "metadata": {},
   "source": [
    "**6**"
   ]
  },
  {
   "cell_type": "code",
   "execution_count": 185,
   "metadata": {},
   "outputs": [
    {
     "data": {
      "text/plain": [
       "array([-0.76744879,  1.69776419, -0.98394937, ...,  0.12215293,\n",
       "       -4.55636844, -0.404205  ])"
      ]
     },
     "execution_count": 185,
     "metadata": {},
     "output_type": "execute_result"
    }
   ],
   "source": [
    "y = 3*np.random.randn(10000) + 0\n",
    "y"
   ]
  },
  {
   "cell_type": "markdown",
   "metadata": {},
   "source": [
    "**7**"
   ]
  },
  {
   "cell_type": "code",
   "execution_count": 187,
   "metadata": {},
   "outputs": [
    {
     "data": {
      "text/plain": [
       "<function matplotlib.pyplot.show(*args, **kw)>"
      ]
     },
     "execution_count": 187,
     "metadata": {},
     "output_type": "execute_result"
    },
    {
     "data": {
      "image/png": "[encoded data removed]",
      "text/plain": [
       "<Figure size 432x288 with 1 Axes>"
      ]
     },
     "metadata": {
      "needs_background": "light"
     },
     "output_type": "display_data"
    }
   ],
   "source": [
    "plt.hist(y, bins=30) \n",
    "plt.hist(x, bins=30)\n",
    "#Axis changed to be kept the same as the distribution of X.\n",
    "#plt.xlim(0,6)\n",
    "plt.title('Histogram with Mean = 0 and Sd = 3')\n",
    "plt.show"
   ]
  },
  {
   "cell_type": "markdown",
   "metadata": {},
   "source": [
    "**8**"
   ]
  },
  {
   "cell_type": "markdown",
   "metadata": {},
   "source": [
    "**Ploting a histogram of the sum of the distributions X and Y, we can see that the distribution is still normal. This means the distributions are independent.**\n",
    "\n",
    "$$E[XY] = E[X]E[Y] = 0*2 = 0$$"
   ]
  },
  {
   "cell_type": "code",
   "execution_count": 175,
   "metadata": {},
   "outputs": [
    {
     "data": {
      "image/png": "[encoded data removed]",
      "text/plain": [
       "<Figure size 432x288 with 1 Axes>"
      ]
     },
     "metadata": {
      "needs_background": "light"
     },
     "output_type": "display_data"
    }
   ],
   "source": [
    "plt.hist(y+x, bins = 30)\n",
    "plt.title('Histogram of Sum of Distributions')\n",
    "plt.show()"
   ]
  },
  {
   "cell_type": "markdown",
   "metadata": {},
   "source": [
    "# Version Control via Git"
   ]
  },
  {
   "cell_type": "markdown",
   "metadata": {},
   "source": [
    "## 12\n",
    "**[1 point]** You will need to use Git to submit assignments and in the course projects and is generally a version control and collaboration tool. You can even use some Git repositories (e.g. Github) as hosts for website, such as with the [course website](https://kylebradbury.github.io/ids705/index.html). \n",
    "\n",
    "Complete the [Atlassian Git tutorial](https://www.atlassian.com/git/tutorials/what-is-version-control), specifically the following listed sections. Try each concept that's presented. For this tutorial, instead of using BitBucket as your remote repository host, you may use your preferred platform such as [Github](https://github.com/) or [Duke's Gitlab](https://gitlab.oit.duke.edu/users/sign_in).\n",
    "1. [What is version control](https://www.atlassian.com/git/tutorials/what-is-version-control)\n",
    "2. [What is Git](https://www.atlassian.com/git/tutorials/what-is-git)\n",
    "3. [Install Git](https://www.atlassian.com/git/tutorials/install-git)\n",
    "4. [Setting up a repository](https://www.atlassian.com/git/tutorials/install-git)\n",
    "5. [Saving changes](https://www.atlassian.com/git/tutorials/saving-changes)\n",
    "6. [Inspecting a repository](https://www.atlassian.com/git/tutorials/inspecting-a-repository)\n",
    "7. [Undoing changes](https://www.atlassian.com/git/tutorials/undoing-changes)\n",
    "8. [Rewriting history](https://www.atlassian.com/git/tutorials/rewriting-history)\n",
    "9. [Syncing](https://www.atlassian.com/git/tutorials/syncing)\n",
    "10. [Making a pull request](https://www.atlassian.com/git/tutorials/making-a-pull-request)\n",
    "11. [Using branches](https://www.atlassian.com/git/tutorials/using-branches)\n",
    "12. [Comparing workflows](https://www.atlassian.com/git/tutorials/comparing-workflows)\n",
    "\n",
    "I also have created two videos on the topic to help you understand some of these concepts: [Git basics](https://www.youtube.com/watch?v=fBCwfoBr2ng) and a [step-by-step tutorial](https://www.youtube.com/watch?v=nH7qJHx-h5s).\n",
    "\n",
    "For your answer, affirm that you *either* completed the tutorial or have previous experience with all of the concepts above. Do this by typing your name below and selecting the situation that applies from the two options in brackets."
   ]
  },
  {
   "cell_type": "markdown",
   "metadata": {},
   "source": [
    "**ANSWER**\n",
    "\n",
    "*I, **Vishaal Venkatesh**, affirm that I have [**completed the above tutorial / I have previous experience that covers all the content in this tutorial**]*"
   ]
  },
  {
   "cell_type": "markdown",
   "metadata": {},
   "source": [
    "# Exploratory Data Analysis\n",
    "## 13\n",
    "**[20 points]** Here you'll bring together some of the individual skills that you demonstrated above and create a Jupyter notebook based blog post on data analysis.\n",
    "\n",
    "1. Find a dataset that interests you and relates to a question or problem that you find intriguing\n",
    "2. Using a Jupyter notebook, describe the dataset, the source of the data, and the reason the dataset was of interest.\n",
    "3. Check the data and see if they need to be cleaned: are there missing values? Are there clearly erroneous values? Do two tables need to be merged together? Clean the data so it can be visualized.\n",
    "3. Plot the data, demonstrating interesting features that you discover. Are there any relationships between variables that were surprising or patterns that emerged? Please exercise creativity and curiosity in your plots.\n",
    "4. What insights are you able to take away from exploring the data? Is there a reason why analyzing the dataset you chose is particularly interesting or important? Summarize this as if your target audience was the readership of a major news organization - boil down your findings in a way that is accessible, but still accurate.\n",
    "\n",
    "Here your analysis will evaluated based on:\n",
    "1. Data cleaning: did you look for and work to resolve issues in the data?\n",
    "2. Quality of data exploration: did you provide plots demonstrating interesting aspects of the data?\n",
    "3. Interpretation: Did you clearly explain your insights? Restating the data, alone, is not interpretation.\n",
    "5. Professionalism: Was this work done in a way that exhibits professionalism through clarity, organization, high quality figures and plots, and meaningful descriptions?"
   ]
  },
  {
   "cell_type": "markdown",
   "metadata": {},
   "source": [
    "**ANSWER**"
   ]
  },
  {
   "cell_type": "markdown",
   "metadata": {},
   "source": [
    "**Introduction**"
   ]
  },
  {
   "cell_type": "markdown",
   "metadata": {},
   "source": [
    "Becoming successful on YouTube is an incredibly creative and difficult task and is far from something that could be accurately modelled. It would however, be fascinating to analyse if any relationship exists between the Likes to Dislikes ratio (L/D) of a particular video and the sentiments of the comments under a video. \n",
    "\n",
    "In this analysis, we simply attempt an exploratory analysis to assess the faesability of a novel approach to try and model the Likes to Dislike ratio (L/D) of a video using the sentiment of the comments. This is done under the premise that the L/D ratio is a good predictor of a YouTuber's success. Measuring the sentiments of a the comments under a video can prove to be challenging and very subjective. However, this can be accomplished using the text sentiment analsyis tool VADER. \n",
    "\n",
    "VADER is a lexicon and rule-based sentiment analysis tool that is specifically attuned to sentiments expressed in social\n",
    "media. VADER uses a lexical approach to sentiment analysis, i.e., it maps words, phrases and sentences to a dictionary of sentiments. Following this matching, the sentence is provided with four different scores – a positive, neutral, negative and compound score. The first three scores are on a scale of [0, 1] while the final compound score is the standardized sum of the first three scores on a scale of [-1, 1]. One reason for VADER’s success and popularity lies in its ability to function without having to train a model. Everything we need to analyze a sentence is contained in the so-called dictionary of emotions. It is also noteworthy that VADER is very capable of dealing with emoticons, slang and a variety of contextual punctuation marks – all\n",
    "of which are very useful when dealing with social media text analysis."
   ]
  },
  {
   "cell_type": "markdown",
   "metadata": {},
   "source": [
    "**Data**"
   ]
  },
  {
   "cell_type": "markdown",
   "metadata": {},
   "source": [
    "Two different datasets were used for this analysis. The first dataset contained data on the videos\n",
    "themselves, while the second dataset contained information on the comments under each video listed in the\n",
    "first dataset. The data is about videos featured in the trending category on YouTube between the dates of\n",
    "13th September and 22nd October 2017 in the United States. Both datasets were linked by a unique video ID.\n",
    "The datasets were obtained from the popular data science website by the name of Kaggle. "
   ]
  },
  {
   "cell_type": "markdown",
   "metadata": {},
   "source": [
    "The video dataset contained data on the name of the video, date when the video was uploaded, name\n",
    "of the channel, category (one of fifteen categories like news, entertainment etc.), views, likes and dislikes.\n",
    "The L/D ratio was calculated to simply be the ratio of the number of likes to the number of dislikes. It has to\n",
    "be noted that there were in all 73 video that had no dislikes whatsoever. These videos had to be removed\n",
    "from the dataset as a they would result in a L/D of infinity. There were no instances of missing data and no\n",
    "imputations or deletions had to be performed. Furthermore, about 2/3 of the videos in the dataset were\n",
    "repeated with different dates associated with them. These were simply a single video trending for multiple\n",
    "days and accumulating different number of views, likes and dislikes over these days. For the sake of this\n",
    "analysis, the likes, dislikes and views were summed up by video_id and each video were treated as a single\n",
    "entity despite trending on multiple days. "
   ]
  },
  {
   "cell_type": "markdown",
   "metadata": {},
   "source": [
    "The comments dataset contained information of the\n",
    "content of the comment, the number of likes each comment received and the number of replies. It has to be\n",
    "noted that there were precisely 9 occurrences of incorrect textual data in the reply’s column. These columns\n",
    "were removed from the dataset and were not used in the analysis. Furthermore, for future analysis, the most\n",
    "popular comment under a video was the comment that received the greatest number of likes for a given\n",
    "video_id. Finally, a one-to-many, inner join on the video_id was performed on the two datasets before using\n",
    "VADER to score the comments. "
   ]
  },
  {
   "cell_type": "code",
   "execution_count": 222,
   "metadata": {},
   "outputs": [],
   "source": [
    "import math\n",
    "import pandas as pd\n",
    "import numpy as np\n",
    "import seaborn as sns\n",
    "import json\n",
    "import itertools\n",
    "import re\n",
    "import random\n",
    "from sklearn.model_selection import train_test_split\n",
    "from sklearn.linear_model import LinearRegression\n",
    "import requests\n",
    "import matplotlib.pyplot as plt\n",
    "import matplotlib.gridspec as gridspec\n",
    "from vaderSentiment.vaderSentiment import SentimentIntensityAnalyzer"
   ]
  },
  {
   "cell_type": "code",
   "execution_count": 223,
   "metadata": {},
   "outputs": [],
   "source": [
    "columns1 = ['video_id', 'title', 'channel_title', 'category_id',\n",
    "          'tags', 'views', 'likes', 'dislikes', 'comment_total',\n",
    "          'thumbnail_link', 'date']\n",
    "#Read video dataset and drop the nas if any...\n",
    "vid_df =  pd.read_csv(\"C:/Users/Vishaal/Desktop/IDS Final/USvideos.csv\", usecols = columns1)\n",
    "vid_df = vid_df.dropna()\n",
    "\n",
    "columns2 = ['video_id', 'comment_text', 'likes', 'replies']\n",
    "#Read comment dataset and drop the nas if any...\n",
    "comm_df =  pd.read_csv(\"C:/Users/Vishaal/Desktop/IDS Final/UScomments.csv\", usecols = columns2, low_memory=False)\n",
    "comm_df = comm_df.dropna()\n",
    "\n",
    "\n",
    "#vid_df.category_id = pd.Categorical(vid_df.category_id)"
   ]
  },
  {
   "cell_type": "code",
   "execution_count": 224,
   "metadata": {},
   "outputs": [],
   "source": [
    "#Removing wrong entries in the reply column. Converting all to int...\n",
    "comm_df.drop(41587, inplace=True)\n",
    "comm_df.drop(41588, inplace=True)\n",
    "comm_df.drop(51626, inplace=True)\n",
    "comm_df.drop(142419, inplace=True)\n",
    "comm_df.drop(142494, inplace=True)\n",
    "comm_df.drop(189730, inplace=True)\n",
    "comm_df.drop(245216, inplace=True)\n",
    "comm_df.drop(114463, inplace=True)\n",
    "comm_df.drop(388428, inplace=True)\n",
    "\n",
    "comm_df.replies = pd.to_numeric(comm_df.replies)\n",
    "comm_df.likes = pd.to_numeric(comm_df.likes)\n",
    "\n",
    "#Creating a likes to dislike column\n",
    "vid_df['L/D'] = vid_df.likes/vid_df.dislikes"
   ]
  },
  {
   "cell_type": "code",
   "execution_count": 225,
   "metadata": {},
   "outputs": [],
   "source": [
    "#Some of the dates also seem to be messed up. We will rectify them and change them to a uniform format\n",
    "#Correcting the dates in vid_df\n",
    "vid_df.loc[vid_df['date'] == '24.09xcaeyJTx4Co', 'date'] = '24.09'\n",
    "vid_df.loc[vid_df['date'] == '26.0903jeumSTSzc', 'date'] = '26.09'\n",
    "vid_df.loc[vid_df['date'] == '100', 'date'] = '09.10'\n",
    "vid_df['date'] = vid_df['date'].apply(lambda x: pd.to_datetime(str(x).replace('.','')+\"2017\",format='%d%m%Y'))\n",
    "vid_df['date'] = vid_df['date'].dt.date\n",
    "\n",
    "video_df = vid_df.drop_duplicates(subset = 'video_id', inplace = False, keep = 'last')\n",
    "vid_df_1 = video_df[video_df['category_id'] == 24]"
   ]
  },
  {
   "cell_type": "code",
   "execution_count": 226,
   "metadata": {},
   "outputs": [],
   "source": [
    "#An inner join makes the most sense here. Let all the video data survive. This is at the comment level.\n",
    "merged_left = pd.merge(left=video_df,right=comm_df, how='inner', left_on='video_id', right_on='video_id', validate = '1:m')"
   ]
  },
  {
   "cell_type": "code",
   "execution_count": 205,
   "metadata": {},
   "outputs": [],
   "source": [
    "#Now we do the text analysis on all the comments using vader...\n",
    "sid_obj = SentimentIntensityAnalyzer() \n",
    "\n",
    "score = []\n",
    "p = []\n",
    "neu = []\n",
    "neg = []\n",
    "compound = []\n",
    "\n",
    "for sentence in merged_left.comment_text:\n",
    "        sentiment_dict = sid_obj.polarity_scores(str(sentence)) \n",
    "        score.append(sentiment_dict)\n",
    "        p.append(sentiment_dict['pos'])\n",
    "        neg.append(sentiment_dict['neg'])\n",
    "        neu.append(sentiment_dict['neu'])\n",
    "        compound.append(sentiment_dict['compound'])\n",
    "        "
   ]
  },
  {
   "cell_type": "code",
   "execution_count": 227,
   "metadata": {},
   "outputs": [],
   "source": [
    "merged_left['poitive_score'] = p\n",
    "merged_left['negative_score'] = neg\n",
    "merged_left['neutral_score'] = neu\n",
    "merged_left['compound_score'] = compound"
   ]
  },
  {
   "cell_type": "markdown",
   "metadata": {},
   "source": [
    "**Brief Insights**"
   ]
  },
  {
   "cell_type": "markdown",
   "metadata": {},
   "source": [
    "The following plot is a fun plot showing the number of occurences of the word 'Google' in 10 YouTube channel's titles sorted by views. The L/D ratio is given in the y-axis and the name of the channel is shown in the x-axis. Marques Brownlee's channel has the highest number of views out of all the channels with the word 'Google'and has  a L/D ratio of roughly 40. This makes it a pretty popular channel and the occurence of the word Google in the channel's title comes as no surprise as Brownlee's channel is a tech channel. "
   ]
  },
  {
   "cell_type": "code",
   "execution_count": 249,
   "metadata": {},
   "outputs": [
    {
     "data": {
      "text/plain": [
       "Text(0, 0.5, 'Likes to Dislike Ratio')"
      ]
     },
     "execution_count": 249,
     "metadata": {},
     "output_type": "execute_result"
    },
    {
     "data": {
      "image/png": "[encoded data removed]",
      "text/plain": [
       "<Figure size 432x288 with 1 Axes>"
      ]
     },
     "metadata": {
      "needs_background": "light"
     },
     "output_type": "display_data"
    }
   ],
   "source": [
    "#Code sourced from kaggle - to see which channels have a certain trending word. Plot of L/D ratio of channels sorted by views.\n",
    "tag_top = video_df[video_df['title'].str.contains('Google')].sort_values(by='views', ascending=False).head(10)\n",
    "ax = tag_top.plot(kind='bar',x='channel_title',y='L/D',title='Top10 Channels with the word Google')\n",
    "ax.set_xlabel('Channel Title Sorted by Views in Descending Order (Left to Right)')\n",
    "ax.set_ylabel('Likes to Dislike Ratio')"
   ]
  },
  {
   "cell_type": "markdown",
   "metadata": {},
   "source": [
    "The following two plots are simple scatter plots that show how the L/D ratio vary with both the number of views and the number of comments. It can be seen that there is not much of a trend and the L/D ratio does not change much with either an increase in views or an increase on the total number of comments. This is in accordance with the point made in the beginning of the analysis - developing a model to predict L/D is difficult and strong correlations between L/D ratio and predictors are not going to be present.  We shall further plot a correlation heat map below to study the relationships between the variables further. "
   ]
  },
  {
   "cell_type": "code",
   "execution_count": 258,
   "metadata": {},
   "outputs": [
    {
     "data": {
      "text/plain": [
       "Text(0, 0.5, 'L/D')"
      ]
     },
     "execution_count": 258,
     "metadata": {},
     "output_type": "execute_result"
    },
    {
     "data": {
      "image/png": "[encoded data removed]",
      "text/plain": [
       "<Figure size 432x288 with 1 Axes>"
      ]
     },
     "metadata": {
      "needs_background": "light"
     },
     "output_type": "display_data"
    }
   ],
   "source": [
    "plt.scatter(video_df['views'], video_df['L/D'], s = 3)\n",
    "plt.xticks(rotation = 90)\n",
    "plt.title('L/D Vs Views')\n",
    "plt.xlabel('Views')\n",
    "plt.ylabel('L/D')\n"
   ]
  },
  {
   "cell_type": "code",
   "execution_count": 260,
   "metadata": {},
   "outputs": [
    {
     "data": {
      "text/plain": [
       "Text(0, 0.5, 'L/D')"
      ]
     },
     "execution_count": 260,
     "metadata": {},
     "output_type": "execute_result"
    },
    {
     "data": {
      "image/png": "[encoded data removed]",
      "text/plain": [
       "<Figure size 432x288 with 1 Axes>"
      ]
     },
     "metadata": {
      "needs_background": "light"
     },
     "output_type": "display_data"
    }
   ],
   "source": [
    "plt.scatter(video_df['comment_total'], video_df['L/D'], s = 3)\n",
    "plt.xticks(rotation = 90)\n",
    "plt.title(' L/D Vs Total Number of Comments')\n",
    "plt.xlabel('Total Number of Comments')\n",
    "plt.ylabel('L/D')"
   ]
  },
  {
   "cell_type": "markdown",
   "metadata": {},
   "source": [
    "From the correlation heat map given above, it was observed that there were some obvious positive correlations such as the number views and the likes on the video. An obvious negative correlation was between the positive score of a comment and the negative score of the same comment – a comment cannot be highly positive and negative at the same time. More interesting was the correlations between the dependent variable (L/D) and the various other possible predictors. L/D was slightly positively correlated with likes, positive score and compound score and was mildly negatively correlated with views, dislikes neutral and negative scores. It remains to be seen which of these predictors will emerge significant."
   ]
  },
  {
   "cell_type": "code",
   "execution_count": 206,
   "metadata": {},
   "outputs": [
    {
     "data": {
      "text/plain": [
       "Text(0.5, 1, 'Correlation Matrix')"
      ]
     },
     "execution_count": 206,
     "metadata": {},
     "output_type": "execute_result"
    },
    {
     "data": {
      "image/png": "[encoded data removed]",
      "text/plain": [
       "<Figure size 432x288 with 2 Axes>"
      ]
     },
     "metadata": {
      "needs_background": "light"
     },
     "output_type": "display_data"
    }
   ],
   "source": [
    "corr = merged_left.corr()\n",
    "ax = sns.heatmap(\n",
    "    corr, \n",
    "    vmin=-1, vmax=1, center=0,\n",
    "    cmap=sns.diverging_palette(20, 220, n=200),\n",
    "    square=True\n",
    "\n",
    ")\n",
    "ax.set_xticklabels(\n",
    "    ax.get_xticklabels(),\n",
    "    rotation=30,\n",
    "    horizontalalignment='right'\n",
    ");\n",
    "ax.set_title('Correlation Matrix', fontsize=20)"
   ]
  },
  {
   "cell_type": "markdown",
   "metadata": {},
   "source": [
    "This analysis provides an insight into the data used, walks through the various steps in cleaning the data and performs some prelimenary analysis. A model can be developed in the future to accurately predict the L/D ratio based on the sentiments of the comments under a video. "
   ]
  },
  {
   "cell_type": "code",
   "execution_count": null,
   "metadata": {},
   "outputs": [],
   "source": []
  }
 ],
 "metadata": {
  "kernelspec": {
   "display_name": "Python 3",
   "language": "python",
   "name": "python3"
  },
  "language_info": {
   "codemirror_mode": {
    "name": "ipython",
    "version": 3
   },
   "file_extension": ".py",
   "mimetype": "text/x-python",
   "name": "python",
   "nbconvert_exporter": "python",
   "pygments_lexer": "ipython3",
   "version": "3.7.3"
  },
  "varInspector": {
   "cols": {
    "lenName": 16,
    "lenType": 16,
    "lenVar": 40
   },
   "kernels_config": {
    "python": {
     "delete_cmd_postfix": "",
     "delete_cmd_prefix": "del ",
     "library": "var_list.py",
     "varRefreshCmd": "print(var_dic_list())"
    },
    "r": {
     "delete_cmd_postfix": ") ",
     "delete_cmd_prefix": "rm(",
     "library": "var_list.r",
     "varRefreshCmd": "cat(var_dic_list()) "
    }
   },
   "types_to_exclude": [
    "module",
    "function",
    "builtin_function_or_method",
    "instance",
    "_Feature"
   ],
   "window_display": false
  }
 },
 "nbformat": 4,
 "nbformat_minor": 2
}
